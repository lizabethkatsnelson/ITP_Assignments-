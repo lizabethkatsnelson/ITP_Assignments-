{
 "cells": [
  {
   "cell_type": "markdown",
   "metadata": {},
   "source": [
    "# Introduction to Programming (Summer2018)\n",
    "\n",
    "## Assignment 2 (Due date: 02 August 2018, by midnight)"
   ]
  },
  {
   "cell_type": "markdown",
   "metadata": {},
   "source": [
    "### Question 1\n",
    "\n",
    "#### String Handling\n",
    "#### 1.1) \n",
    "Complete the following function which checks whether a DNA sequence is valid. A valid DNA sequence will only contain **'A,a,C,c,G,g,T,t'** characters for this question. If the sequence is valid return **True**, otherwise return **False**.\n",
    "\n",
    "*When running the block, the assert statements will raise errors if your program does not return the correct response.*\n"
   ]
  },
  {
   "cell_type": "code",
   "execution_count": 45,
   "metadata": {},
   "outputs": [],
   "source": [
    "# 1.1\n",
    "\n",
    "def validity_check(sequence):                            \n",
    "    \n",
    "    sequence = sequence.upper()     # force uppercase \n",
    "    valid_seq = ('ACGT')\n",
    "    \n",
    "    for x in sequence: \n",
    "        if x not in valid_seq:      # iterate through entire sequence, find invalid letter\n",
    "            return False\n",
    "    else:\n",
    "        return True\n",
    "\n",
    "assert validity_check('ACGT') == True, 'validity_check(\"ACGT\") returns False, should return True'\n",
    "assert validity_check('acgt') == True, 'validity_check(\"acgt\") returns False, should return True'\n",
    "assert validity_check('AGUC') == False, 'validity_check(\"AGUC\") returns True, should return False'\n",
    "assert validity_check('PPPP') == False, 'validity_check(\"PPPP\") returns True, should return False'"
   ]
  },
  {
   "cell_type": "code",
   "execution_count": 48,
   "metadata": {},
   "outputs": [],
   "source": [
    "# CHECK\n",
    "# validity_check('ACGT')\n",
    "# validity_check('acgt') \n",
    "# validity_check('AGUC') \n",
    "# validity_check('PPPP')\n",
    "# validity_check('GGGGGGGGGCTATATATATATA')"
   ]
  },
  {
   "cell_type": "markdown",
   "metadata": {},
   "source": [
    "#### 1.2)\n",
    "Complete the following function which will return the reverse complement of a DNA sequence.\n",
    "\n",
    "The reverse complement is calculated by reversing the sequence and substituting: \n",
    "+ 'A' with 'T'\n",
    "+ 'T' with 'A'\n",
    "+ 'G' with 'C'\n",
    "+ 'C' with 'G'\n",
    "\n",
    "EG:\n",
    "```\n",
    "reverse_complement('AATC')\n",
    "\n",
    "step 1 - reverse the sequence:\n",
    "    reverse = 'CTAA'\n",
    "    \n",
    "step 2 - replace the characters with their complement:\n",
    "    'C' -> 'G'\n",
    "    'T' -> 'A'\n",
    "    'A' -> 'T'\n",
    "    'A' -> 'T'\n",
    "    \n",
    "    complement = 'GATT' \n",
    "```\n",
    "\n",
    "*When running the block, the assert statements will raise errors if your program does not return the correct response.*"
   ]
  },
  {
   "cell_type": "code",
   "execution_count": 49,
   "metadata": {},
   "outputs": [],
   "source": [
    "# 1.2\n",
    "\n",
    "compliment = {'A':'T', 'C':'G', 'G':'C', 'T':'A', 'a':'t', 'c':'g', 'g':'c', 't':'a'}  # define dictionary\n",
    "                 \n",
    "def reverse_complement(sequence):                            \n",
    "    \n",
    "    return ''.join([compliment[x] for x in sequence[::-1]]) # switch from dictionary, reverse seq\n",
    "\n",
    "\n",
    "assert reverse_complement('AAGCT') == 'AGCTT', 'reverse_complement(\"AAGCT\") should return \"AGCTT\"'\n",
    "assert reverse_complement('tggca') in ['tgcca','TGCCA'], 'reverse_complement(\"tggca\") should return \"tgcca\"'"
   ]
  },
  {
   "cell_type": "code",
   "execution_count": 52,
   "metadata": {},
   "outputs": [],
   "source": [
    "# CHECK\n",
    "# reverse_complement('TGGAAC')\n",
    "# reverse_complement('aaaggg')"
   ]
  },
  {
   "cell_type": "markdown",
   "metadata": {},
   "source": [
    "#### 1.3)\n",
    "\n",
    "Write a script which will allow a user to input multiple DNA sequences one at a time. You do not know how many in advance and should take this into account. Your code will then check if the sequence is valid and return the reverse complement if it is. If the sequence is not valid, print an error message alerting the user to this.\n",
    "\n",
    "It would be a good idea to use the functions you created in 1.1 and 1.2\n",
    "\n",
    "```\n",
    "PSEUDOCODE:\n",
    "loop until '' is entered:\n",
    "    prompt user for a new seq\n",
    "    if seq is valid:\n",
    "        output reverse complement\n",
    "    else\n",
    "        output error message indicating that sequence was invalid\n",
    "```"
   ]
  },
  {
   "cell_type": "code",
   "execution_count": 53,
   "metadata": {},
   "outputs": [
    {
     "name": "stdout",
     "output_type": "stream",
     "text": [
      "Enter a valid DNA sequence: GTGTG\n",
      "CACAC\n",
      "Enter a valid DNA sequence: ACACA\n",
      "TGTGT\n",
      "Enter a valid DNA sequence: gtgtg\n",
      "cacac\n",
      "Enter a valid DNA sequence: acaca\n",
      "tgtgt\n",
      "Enter a valid DNA sequence: UUU\n",
      "ERROR: You have not entered a valid DNA sequence\n"
     ]
    }
   ],
   "source": [
    "# 1.3\n",
    "\n",
    "def reverse_compliment_sequence_generator(): \n",
    "    while True:\n",
    "        sequence = input('Enter a valid DNA sequence: ')  # user input sequence\n",
    "        \n",
    "        if validity_check(sequence) is True:            # sequence = valid, print rev comp\n",
    "            print(reverse_complement(sequence))\n",
    "            continue                                    # continue the loop\n",
    "        else:                                           # sequence = not valid, break from loop \n",
    "            break\n",
    "    \n",
    "    print ('ERROR: You have not entered a valid DNA sequence')  # return an error message \n",
    "\n",
    "reverse_compliment_sequence_generator()             "
   ]
  },
  {
   "cell_type": "markdown",
   "metadata": {},
   "source": [
    "### Question 2\n",
    "\n",
    "In cryptography there are many ways to code messages. An easy method is to shift the alphabet by a given amount, this is known as a Caesar Cipher http://practicalcryptography.com/ciphers/caesar-cipher/.\n",
    "\n",
    "EG:\n",
    "\n",
    "Shift|A|B|C|D|E|F|G|H|I|J|K|L|M|N|O|P|Q|R|S|T|U|V|W|X|Y|Z|\n",
    "-|-|-|-|-|-|-|-|-|-|-|-|-|-|-|-|-|-|-|-|-|-|-|-|-|-|-|\n",
    "1|B|C|D|E|F|G|H|I|J|K|L|M|N|O|P|Q|R|S|T|U|V|W|X|Y|Z|A|\n",
    "2|C|D|E|F|G|H|I|J|K|L|M|N|O|P|Q|R|S|T|U|V|W|X|Y|Z|A|B|\n",
    "10|K|L|M|N|O|P|Q|R|S|T|U|V|W|X|Y|Z|A|B|C|D|E|F|G|H|I|J|\n",
    "\n",
    "In the case of using an alphabet which has been shifted by 1, 'A' will be replaced with 'B', 'B' will be replaced with 'C', ..., 'Z' is replaced with 'A'.\n",
    "\n",
    "#### 2.1)\n",
    "Complete the following function which takes a string and an integer which represents the shift and returns an encoded string."
   ]
  },
  {
   "cell_type": "code",
   "execution_count": 54,
   "metadata": {},
   "outputs": [],
   "source": [
    "# 2.1\n",
    "\n",
    "alphabet = ['A', 'B', 'C', 'D', 'E', 'F', 'G', 'H', 'I', 'J', 'K', 'L', 'M', \n",
    "            'N', 'O', 'P', 'Q', 'R', 'S', 'T', 'U', 'V', 'W', 'X', 'Y', 'Z']\n",
    "\n",
    "def encode_string(message, shift=5):\n",
    "    alpha_dict = {}                                # force dictionary\n",
    "    for x in range(0, len(alphabet)):              \n",
    "        alpha_dict[alphabet[x]] = alphabet[(x+shift) % len(alphabet)]  # list index = dictionary keys,  add shift \n",
    "    secret_code = ''                                                   # create empty string\n",
    "    for y in message:                                                  # new letters\n",
    "        if y in alpha_dict:                        \n",
    "            y = alpha_dict[y]                      # add new letters to empty string, \n",
    "        secret_code += y                           # iterate through message and dictionary\n",
    "    return secret_code\n",
    "        \n",
    "\n",
    "assert encode_string('ABCD', 1) == 'BCDE', \"encode_string('ABCD', 1) should return 'BCDE'\"\n",
    "assert encode_string('FOOBAR', 3) == 'IRREDU', \"encode_string('FOOBAR', 3) should return 'IRREDU'\"\n",
    "assert encode_string('XYZ') == 'CDE', \"encode_string('XYZ') should return 'CDE'\""
   ]
  },
  {
   "cell_type": "code",
   "execution_count": 55,
   "metadata": {},
   "outputs": [
    {
     "data": {
      "text/plain": [
       "'MJTB'"
      ]
     },
     "execution_count": 55,
     "metadata": {},
     "output_type": "execute_result"
    }
   ],
   "source": [
    "# CHECK \n",
    "# encode_string('ABCD', 1)\n",
    "# encode_string('FOOBAR', 3)\n",
    "# encode_string('XYZ')\n",
    "encode_string('LISA', 1)"
   ]
  },
  {
   "cell_type": "markdown",
   "metadata": {},
   "source": [
    "#### 2.2)\n",
    "\n",
    "Complete the following function which takes a string and an integer which represents the shift and returns the decoded message"
   ]
  },
  {
   "cell_type": "code",
   "execution_count": 56,
   "metadata": {},
   "outputs": [],
   "source": [
    "# 2.2\n",
    "\n",
    "alphabet = ['A', 'B', 'C', 'D', 'E', 'F', 'G', 'H', 'I', 'J', 'K', 'L', 'M', \n",
    "            'N', 'O', 'P', 'Q', 'R', 'S', 'T', 'U', 'V', 'W', 'X', 'Y', 'Z']\n",
    "\n",
    "def decode_string(message, shift=5):                            # same as code in 2.1 \n",
    "    alpha_dict = {}                           \n",
    "    for x in range(0, len(alphabet)):\n",
    "        alpha_dict[alphabet[x]] = alphabet[(x - shift) % len(alphabet)]   # ONE CHANGE: subtract shift \n",
    "    decoded_code = ''                            \n",
    "    for y in message:                              \n",
    "        if y in alpha_dict:                        \n",
    "            y = alpha_dict[y]                      \n",
    "        decoded_code += y                           \n",
    "    return decoded_code\n",
    "    \n",
    "assert decode_string('MNO', 10) == 'CDE', \"decode_string('MNO', 10) should return 'CDE'\"\n",
    "assert decode_string('PYTHON') == 'KTOCJI', \"decode_string('PYTHON') should return 'KTOCJI'\"\n",
    "\n",
    "assert decode_string(encode_string('ABCD', 1), 1) == 'ABCD', \"decode_string(encode_string('ABCD', 1), 1) should return 'ABCD'\"\n",
    "assert decode_string(encode_string('FOOBAR', 3), 3) == 'FOOBAR', \"decode_string(encode_string('FOOBAR', 3), 3) should return 'FOOBAR'\"\n",
    "assert decode_string(encode_string('XYZ')) == 'XYZ', \"decode_string(encode_string('XYZ')) should return 'XYZ'\""
   ]
  },
  {
   "cell_type": "code",
   "execution_count": 57,
   "metadata": {},
   "outputs": [
    {
     "data": {
      "text/plain": [
       "'LISA'"
      ]
     },
     "execution_count": 57,
     "metadata": {},
     "output_type": "execute_result"
    }
   ],
   "source": [
    "# CHECK\n",
    "# decode_string(encode_string('ABCD', 1), 1)\n",
    "# decode_string(encode_string('FOOBAR', 3), 3)\n",
    "# decode_string(encode_string('XYZ')) \n",
    "# decode_string('XYZ', 1)\n",
    "decode_string('MJTB', 1)"
   ]
  },
  {
   "cell_type": "markdown",
   "metadata": {},
   "source": [
    "### Question 3\n",
    "\n",
    "Write code which will reproduce each of the following patterns given an input size N\n",
    "\n",
    "Example:\n",
    "\n",
    "```\n",
    "N = 10\n",
    "\n",
    " x x x x x x x x x x\n",
    " x o x o x o x o x o\n",
    " x x x x x x x x x x\n",
    " x o x o x o x o x o\n",
    " x x x x x x x x x x\n",
    " x o x o x o x o x o\n",
    " x x x x x x x x x x\n",
    " x o x o x o x o x o\n",
    " x x x x x x x x x x\n",
    " x o x o x o x o x o\n",
    "\n",
    "```"
   ]
  },
  {
   "cell_type": "code",
   "execution_count": 58,
   "metadata": {},
   "outputs": [
    {
     "name": "stdout",
     "output_type": "stream",
     "text": [
      " x x x x x x x x x x\n",
      " x o x o x o x o x o\n",
      " x x x x x x x x x x\n",
      " x o x o x o x o x o\n",
      " x x x x x x x x x x\n",
      " x o x o x o x o x o\n",
      " x x x x x x x x x x\n",
      " x o x o x o x o x o\n",
      " x x x x x x x x x x\n",
      " x o x o x o x o x o\n"
     ]
    }
   ],
   "source": [
    "#EXAMPLE \n",
    "\n",
    "N = 10\n",
    "pattern = [[' o' for x in range(N)] for y in range(N)]\n",
    "\n",
    "for j in range(N):                     #rows\n",
    "    for i  in range(N):                #columns\n",
    "        if j%2 == 0 or i%2 == 0:\n",
    "            pattern[j][i] = ' x'\n",
    "\n",
    "for row in pattern:\n",
    "    print(''.join(row))"
   ]
  },
  {
   "cell_type": "code",
   "execution_count": null,
   "metadata": {},
   "outputs": [],
   "source": []
  },
  {
   "cell_type": "markdown",
   "metadata": {},
   "source": [
    "#### 3.1)\n",
    "\n",
    "```\n",
    "N = 10\n",
    "\n",
    " x x x x x x x x x x\n",
    " x o o o o o o o o x\n",
    " x o o o o o o o o x\n",
    " x o o o o o o o o x\n",
    " x o o o o o o o o x\n",
    " x o o o o o o o o x\n",
    " x o o o o o o o o x\n",
    " x o o o o o o o o x\n",
    " x o o o o o o o o x\n",
    " x x x x x x x x x x\n",
    "```"
   ]
  },
  {
   "cell_type": "code",
   "execution_count": 59,
   "metadata": {},
   "outputs": [
    {
     "name": "stdout",
     "output_type": "stream",
     "text": [
      "\n",
      "\n",
      "N = 10\n",
      "\n",
      "\n",
      " x x x x x x x x x x\n",
      " x o o o o o o o o x\n",
      " x o o o o o o o o x\n",
      " x o o o o o o o o x\n",
      " x o o o o o o o o x\n",
      " x o o o o o o o o x\n",
      " x o o o o o o o o x\n",
      " x o o o o o o o o x\n",
      " x o o o o o o o o x\n",
      " x x x x x x x x x x\n",
      "\n",
      "\n"
     ]
    }
   ],
   "source": [
    "# 3.1\n",
    "\n",
    "print('\\n')\n",
    "print('N = 10')\n",
    "print('\\n')\n",
    "\n",
    "N = 10\n",
    "pattern = [[' o' for x in range(N)] for y in range(N)]\n",
    "\n",
    "for j in range(N):\n",
    "    for i  in range(N):\n",
    "        if j==0 or i==0 or j==N-1 or i==N-1:     # whenever j or i are 0 or N-1\n",
    "            pattern[j][i] = ' x'\n",
    "\n",
    "for row in pattern:\n",
    "    print(''.join(row))\n",
    "    \n",
    "print('\\n')\n"
   ]
  },
  {
   "cell_type": "code",
   "execution_count": null,
   "metadata": {},
   "outputs": [],
   "source": []
  },
  {
   "cell_type": "markdown",
   "metadata": {},
   "source": [
    "#### 3.2)\n",
    "\n",
    "```\n",
    "N = 9\n",
    "\n",
    " x o o o o o o o x\n",
    " o x o o o o o x o\n",
    " o o x o o o x o o\n",
    " o o o x o x o o o\n",
    " o o o o x o o o o\n",
    " o o o x o x o o o\n",
    " o o x o o o x o o\n",
    " o x o o o o o x o\n",
    " x o o o o o o o x\n",
    " \n",
    "N = 10\n",
    "\n",
    " x o o o o o o o o x\n",
    " o x o o o o o o x o\n",
    " o o x o o o o x o o\n",
    " o o o x o o x o o o\n",
    " o o o o x x o o o o\n",
    " o o o o x x o o o o\n",
    " o o o x o o x o o o\n",
    " o o x o o o o x o o\n",
    " o x o o o o o o x o\n",
    " x o o o o o o o o x\n",
    "\n",
    "\n",
    "```"
   ]
  },
  {
   "cell_type": "code",
   "execution_count": 9,
   "metadata": {},
   "outputs": [
    {
     "name": "stdout",
     "output_type": "stream",
     "text": [
      "\n",
      "\n",
      "N = 9\n",
      "\n",
      "\n",
      " x o o o o o o o x\n",
      " o x o o o o o x o\n",
      " o o x o o o x o o\n",
      " o o o x o x o o o\n",
      " o o o o x o o o o\n",
      " o o o x o x o o o\n",
      " o o x o o o x o o\n",
      " o x o o o o o x o\n",
      " x o o o o o o o x\n",
      "\n",
      "\n",
      "N = 10\n",
      "\n",
      "\n",
      " x o o o o o o o o x\n",
      " o x o o o o o o x o\n",
      " o o x o o o o x o o\n",
      " o o o x o o x o o o\n",
      " o o o o x x o o o o\n",
      " o o o o x x o o o o\n",
      " o o o x o o x o o o\n",
      " o o x o o o o x o o\n",
      " o x o o o o o o x o\n",
      " x o o o o o o o o x\n",
      "\n",
      "\n"
     ]
    }
   ],
   "source": [
    "# 3.2    \n",
    "\n",
    "print('\\n')\n",
    "print('N = 9') \n",
    "print('\\n')\n",
    "\n",
    "N = 9\n",
    "pattern = [[' o' for x in range(N)] for y in range(N)]\n",
    "\n",
    "for j in range(N):\n",
    "    for i  in range(N):\n",
    "        if j==i or j== ((N-1)-i):      # when j = i, and when j = (total - 1) - # of rows\n",
    "            pattern[j][i] = ' x'             \n",
    "\n",
    "for row in pattern:\n",
    "    print(''.join(row))\n",
    "\n",
    "\n",
    "print('\\n')\n",
    "print('N = 10')\n",
    "print('\\n')\n",
    "\n",
    "N = 10\n",
    "pattern = [[' o' for x in range(N)] for y in range(N)]\n",
    "\n",
    "for j in range(N):\n",
    "    for i  in range(N):\n",
    "        if j==i or j== ((N-1)-i):      \n",
    "            pattern[j][i] = ' x'\n",
    "\n",
    "for row in pattern:\n",
    "    print(''.join(row))\n",
    "\n",
    "print('\\n')\n"
   ]
  },
  {
   "cell_type": "code",
   "execution_count": null,
   "metadata": {},
   "outputs": [],
   "source": []
  },
  {
   "cell_type": "markdown",
   "metadata": {},
   "source": [
    "#### 3.3)\n",
    "\n",
    "```\n",
    "N = 10\n",
    "\n",
    " o x o x o x o x o x\n",
    " x o x o x o x o x o\n",
    " o x o x o x o x o x\n",
    " x o x o x o x o x o\n",
    " o x o x o x o x o x\n",
    " x o x o x o x o x o\n",
    " o x o x o x o x o x\n",
    " x o x o x o x o x o\n",
    " o x o x o x o x o x\n",
    " x o x o x o x o x o\n",
    "\n",
    "```"
   ]
  },
  {
   "cell_type": "code",
   "execution_count": 65,
   "metadata": {},
   "outputs": [
    {
     "name": "stdout",
     "output_type": "stream",
     "text": [
      "\n",
      "\n",
      "N = 10\n",
      "\n",
      "\n",
      " o x o x o x o x o x\n",
      " x o x o x o x o x o\n",
      " o x o x o x o x o x\n",
      " x o x o x o x o x o\n",
      " o x o x o x o x o x\n",
      " x o x o x o x o x o\n",
      " o x o x o x o x o x\n",
      " x o x o x o x o x o\n",
      " o x o x o x o x o x\n",
      " x o x o x o x o x o\n",
      "\n",
      "\n"
     ]
    }
   ],
   "source": [
    "# 3.3\n",
    "\n",
    "print('\\n')\n",
    "print('N = 10')\n",
    "print('\\n')\n",
    "\n",
    "N = 10\n",
    "pattern = [[' o' for x in range(N)] for y in range(N)]\n",
    "\n",
    "for j in range(N):\n",
    "    for i  in range(N):\n",
    "        if (j%2 == 0 and i%2 != 0) or (j%2 !=0 and i%2 == 0) :     # when j is even, i must be odd, visa versa\n",
    "            pattern[j][i] = ' x'\n",
    "\n",
    "for row in pattern:\n",
    "    print(''.join(row))\n",
    "\n",
    "print('\\n')\n"
   ]
  },
  {
   "cell_type": "code",
   "execution_count": null,
   "metadata": {},
   "outputs": [],
   "source": []
  },
  {
   "cell_type": "markdown",
   "metadata": {},
   "source": [
    "#### 3.4)\n",
    "\n",
    "```\n",
    "N = 9\n",
    " x x x x x x x x x\n",
    " x x x x o x x x x\n",
    " x x x o o o x x x\n",
    " x x o o o o o x x\n",
    " x o o o o o o o x\n",
    " x x o o o o o x x\n",
    " x x x o o o x x x\n",
    " x x x x o x x x x\n",
    " x x x x x x x x x\n",
    "\n",
    "\n",
    "N = 10\n",
    "\n",
    " x x x x x x x x x x\n",
    " x x x x o o x x x x\n",
    " x x x o o o o x x x\n",
    " x x o o o o o o x x\n",
    " x o o o o o o o o x\n",
    " x o o o o o o o o x\n",
    " x x o o o o o o x x\n",
    " x x x o o o o x x x\n",
    " x x x x o o x x x x\n",
    " x x x x x x x x x x\n",
    "```"
   ]
  },
  {
   "cell_type": "code",
   "execution_count": 61,
   "metadata": {},
   "outputs": [
    {
     "name": "stdout",
     "output_type": "stream",
     "text": [
      "\n",
      "\n",
      "N = 9\n",
      "\n",
      "\n",
      " x x x x x x x x x\n",
      " x x x x o x x x x\n",
      " x x x o o o x x x\n",
      " x x o o o o o x x\n",
      " x o o o o o o o x\n",
      " x x o o o o o x x\n",
      " x x x o o o x x x\n",
      " x x x x o x x x x\n",
      " x x x x x x x x x\n",
      "\n",
      "\n",
      "\n",
      "\n",
      "N = 10\n",
      "\n",
      "\n",
      " x x x x x x x x x x\n",
      " x x x x o o x x x x\n",
      " x x x o o o o x x x\n",
      " x x o o o o o o x x\n",
      " x o o o o o o o o x\n",
      " x o o o o o o o o x\n",
      " x x o o o o o o x x\n",
      " x x x o o o o x x x\n",
      " x x x x o o x x x x\n",
      " x x x x x x x x x x\n",
      "\n",
      "\n"
     ]
    }
   ],
   "source": [
    "# 3.4 \n",
    "\n",
    "print('\\n')\n",
    "print('N = 9')\n",
    "print('\\n')\n",
    "\n",
    "N = 9\n",
    "pattern = [[' o' for x in range(N)] for y in range(N)]\n",
    "\n",
    "for j in range(N):\n",
    "    for i  in range(N):                    # split into 4 quadtrants \n",
    "        if i < ((N/2) - j ) :              # top left (j = 0 through 4, i = 0 through 4)\n",
    "            pattern[j][i] = ' x'\n",
    "        \n",
    "        elif j <= (i-(N//2)) :             # top right (j = 0 through 4, i = 4 through 8)\n",
    "            pattern[j][i] = ' x'\n",
    "        \n",
    "        elif i <= (j-(N//2)) :             # bottom left (j = 4 through 8, i = 0 through 4)\n",
    "            pattern[j][i] = ' x'\n",
    "        \n",
    "        elif (i+j) >= (N-1) + ((N)//2) :       # bottom right (j = 4 through 8, i = 4 through 8)\n",
    "            pattern[j][i] = ' x'\n",
    "\n",
    "for row in pattern:\n",
    "    print(''.join(row))\n",
    "\n",
    "print('\\n')\n",
    "\n",
    "\n",
    "print('\\n')\n",
    "print('N = 10')\n",
    "print('\\n')\n",
    "\n",
    "N = 10\n",
    "pattern = [[' o' for x in range(N)] for y in range(N)]\n",
    "\n",
    "for j in range(N):\n",
    "    for i  in range(N):                    # split into 4 quadtrants \n",
    "        if i < ((N/2) - j ) :              # top left (j = 0 through 4, i = 0 through 4)\n",
    "            pattern[j][i] = ' x'\n",
    "        \n",
    "        elif j <= (i-(N//2)) :             # top right (j = 0 through 4, i = 5 through 9)\n",
    "            pattern[j][i] = ' x'\n",
    "        \n",
    "        elif i <= (j-(N//2)) :             # bottom left (j = 5 through 9, i = 0 through 4)\n",
    "            pattern[j][i] = ' x'\n",
    "        \n",
    "        elif (i+j) >= (N-1) + (N//2) :     # bottom right (j = 5 through 9, i = 5 through 9)\n",
    "            pattern[j][i] = ' x'\n",
    "\n",
    "for row in pattern:\n",
    "    print(''.join(row))\n",
    "\n",
    "print('\\n')\n"
   ]
  },
  {
   "cell_type": "code",
   "execution_count": null,
   "metadata": {},
   "outputs": [],
   "source": []
  }
 ],
 "metadata": {
  "kernelspec": {
   "display_name": "Python 3",
   "language": "python",
   "name": "python3"
  },
  "language_info": {
   "codemirror_mode": {
    "name": "ipython",
    "version": 3
   },
   "file_extension": ".py",
   "mimetype": "text/x-python",
   "name": "python",
   "nbconvert_exporter": "python",
   "pygments_lexer": "ipython3",
   "version": "3.6.6"
  }
 },
 "nbformat": 4,
 "nbformat_minor": 2
}

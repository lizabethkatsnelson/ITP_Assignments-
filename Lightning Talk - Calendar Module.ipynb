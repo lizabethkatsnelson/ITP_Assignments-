{
 "cells": [
  {
   "cell_type": "markdown",
   "metadata": {},
   "source": [
    "# Python Calendar Module\n",
    "### Lightning Talk by Lizabeth Katsnelson"
   ]
  },
  {
   "cell_type": "markdown",
   "metadata": {},
   "source": [
    "### Calendar Module\n",
    "\n",
    "+ outputs calendars defined by programmer\n",
    "+ defaults Monday as the first day of the week, Sunday as the last \n",
    "+ use setfirstweekday() to set your own parameters (ie. Sunday as the first day)\n",
    "+ similar functionality in datetime module\n"
   ]
  },
  {
   "cell_type": "code",
   "execution_count": null,
   "metadata": {},
   "outputs": [],
   "source": [
    "import calendar"
   ]
  },
  {
   "cell_type": "code",
   "execution_count": null,
   "metadata": {},
   "outputs": [],
   "source": [
    "print(calendar.calendar(2018))  # creates calendar objects of specified year \n",
    "                                # follows current Gregorian calendar "
   ]
  },
  {
   "cell_type": "markdown",
   "metadata": {},
   "source": [
    "### Basic variables in Calendar Module "
   ]
  },
  {
   "cell_type": "code",
   "execution_count": null,
   "metadata": {},
   "outputs": [],
   "source": [
    "for i in calendar.day_name:     # for loop, day names iterate through week  \n",
    "    print(i)"
   ]
  },
  {
   "cell_type": "code",
   "execution_count": null,
   "metadata": {},
   "outputs": [],
   "source": [
    "print(calendar.day_name[0])     # index weekdays"
   ]
  },
  {
   "cell_type": "code",
   "execution_count": null,
   "metadata": {},
   "outputs": [],
   "source": [
    "for i in calendar.day_abbr:     # abbreviate day names\n",
    "    print(i)"
   ]
  },
  {
   "cell_type": "code",
   "execution_count": null,
   "metadata": {},
   "outputs": [],
   "source": [
    "for i in calendar.month_name:  # for loop, month names iterate through year\n",
    "    print(i)"
   ]
  },
  {
   "cell_type": "code",
   "execution_count": null,
   "metadata": {},
   "outputs": [],
   "source": [
    "print(calendar.month_name[1])   # index month, ***Month index is 1 - 12, NOT 0 - 11 \n",
    "print(calendar.month_name[12]) "
   ]
  },
  {
   "cell_type": "code",
   "execution_count": null,
   "metadata": {},
   "outputs": [],
   "source": [
    "for i in calendar.month_abbr:  # abbreviate month names\n",
    "    print(i)"
   ]
  },
  {
   "cell_type": "code",
   "execution_count": null,
   "metadata": {},
   "outputs": [],
   "source": [
    "print(calendar.month(2018, 8))  # creates calendar object, year 2018 and month 8 (August) "
   ]
  },
  {
   "cell_type": "markdown",
   "metadata": {},
   "source": [
    "### Function: calendar.setfirstweekday( )\n",
    "+ Monday = 0, Tuesday = 1, Wednesday = 2, Thursday = 3, Friday = 4, Saturday = 5, Sunday = 6\n",
    "+ Think of the days of the week like a list and the numbers are the index\n"
   ]
  },
  {
   "cell_type": "code",
   "execution_count": null,
   "metadata": {},
   "outputs": [],
   "source": [
    "calendar.setfirstweekday(calendar.SUNDAY)    # set Sunday to first day using day name\n",
    "print(calendar.month(2018, 8))               # look at August 2018 again, now with Sunday as first day"
   ]
  },
  {
   "cell_type": "code",
   "execution_count": null,
   "metadata": {},
   "outputs": [],
   "source": [
    "calendar.setfirstweekday(0)      # change first day back to Monday using index \n",
    "print(calendar.firstweekday())   # will tell you the index of the first weekday (check what you set it as)\n",
    "print(calendar.month(2018, 8))   # now we're back to Monday as the first weekday"
   ]
  },
  {
   "cell_type": "markdown",
   "metadata": {},
   "source": [
    "### Function: isleap( )\n",
    "+ returns True or False statement"
   ]
  },
  {
   "cell_type": "code",
   "execution_count": null,
   "metadata": {},
   "outputs": [],
   "source": [
    "print(calendar.isleap(2012))\n",
    "print(calendar.isleap(2018))"
   ]
  },
  {
   "cell_type": "code",
   "execution_count": null,
   "metadata": {},
   "outputs": [],
   "source": [
    "print(calendar.leapdays(2000, 2018))  # prints how many leap years between specific years "
   ]
  },
  {
   "cell_type": "markdown",
   "metadata": {},
   "source": [
    "### Function: Weekday \n",
    "+ tells you the weekday of a specific day of the month you choose"
   ]
  },
  {
   "cell_type": "code",
   "execution_count": null,
   "metadata": {},
   "outputs": [],
   "source": [
    "print(calendar.weekday(2018, 8, 2))   #prints day of week index (Mon=0, Tues=1, Wed=2, Thur=3, Fri=4, Sat=5, Sun=6)"
   ]
  },
  {
   "cell_type": "markdown",
   "metadata": {},
   "source": [
    "### Function: Weekheader\n",
    "+ changes length of weekday name in cal"
   ]
  },
  {
   "cell_type": "code",
   "execution_count": null,
   "metadata": {},
   "outputs": [],
   "source": [
    "print(calendar.weekheader(3))\n",
    "print(calendar.weekheader(1))\n"
   ]
  },
  {
   "cell_type": "markdown",
   "metadata": {},
   "source": [
    "### Customizing your calendar\n",
    "Default: calendar.month(year, w = 0, l = 0)\n",
    "<br>\n",
    "Default: calendar.year(year, w = 0, l = 0, c = 6, m = 3) \n",
    "\n",
    "w = width per day\n",
    "<br>\n",
    "l = length per week\n",
    "<br>\n",
    "c = number of spaces between month columns\n",
    "<br>\n",
    "m = number of columns \n"
   ]
  },
  {
   "cell_type": "code",
   "execution_count": null,
   "metadata": {},
   "outputs": [],
   "source": [
    "print(calendar.month(2018, 8))\n",
    "print(calendar.month(2018, 8, 4))\n",
    "print(calendar.month(2018, 8, 4, 2))"
   ]
  },
  {
   "cell_type": "code",
   "execution_count": null,
   "metadata": {},
   "outputs": [],
   "source": [
    "print(calendar.calendar(2018, w=3, l=2, c=8, m=3))"
   ]
  },
  {
   "cell_type": "code",
   "execution_count": null,
   "metadata": {},
   "outputs": [],
   "source": []
  },
  {
   "cell_type": "markdown",
   "metadata": {},
   "source": [
    "#### References:\n",
    "+ https://docs.python.org/3.6/library/calendar.html\n",
    "+ https://www.youtube.com/watch?v=e0Pys7H-sjM\n",
    "+ https://www.youtube.com/watch?v=lhjqRYWUzhg"
   ]
  }
 ],
 "metadata": {
  "kernelspec": {
   "display_name": "Python 3",
   "language": "python",
   "name": "python3"
  },
  "language_info": {
   "codemirror_mode": {
    "name": "ipython",
    "version": 3
   },
   "file_extension": ".py",
   "mimetype": "text/x-python",
   "name": "python",
   "nbconvert_exporter": "python",
   "pygments_lexer": "ipython3",
   "version": "3.6.6"
  }
 },
 "nbformat": 4,
 "nbformat_minor": 2
}
